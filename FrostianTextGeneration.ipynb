{
  "nbformat": 4,
  "nbformat_minor": 0,
  "metadata": {
    "colab": {
      "name": " FrostianTextGeneration.ipynb",
      "provenance": [],
      "collapsed_sections": [],
      "authorship_tag": "ABX9TyNSkOq1CWE/c9PRYgkFdwKM",
      "include_colab_link": true
    },
    "kernelspec": {
      "name": "python3",
      "display_name": "Python 3"
    },
    "accelerator": "GPU"
  },
  "cells": [
    {
      "cell_type": "markdown",
      "metadata": {
        "id": "view-in-github",
        "colab_type": "text"
      },
      "source": [
        "<a href=\"https://colab.research.google.com/github/madhurima99/FrostianTextGeneration/blob/main/FrostianTextGeneration.ipynb\" target=\"_parent\"><img src=\"https://colab.research.google.com/assets/colab-badge.svg\" alt=\"Open In Colab\"/></a>"
      ]
    },
    {
      "cell_type": "markdown",
      "metadata": {
        "id": "P0GEgJiJyc0P"
      },
      "source": [
        "**Import necessary libraries**"
      ]
    },
    {
      "cell_type": "code",
      "metadata": {
        "id": "OsuoJb0_KHUj"
      },
      "source": [
        "from tensorflow.keras.preprocessing.sequence import pad_sequences\r\n",
        "from tensorflow.keras.layers import Embedding, LSTM, Dense, Dropout, Bidirectional\r\n",
        "from tensorflow.keras.preprocessing.text import Tokenizer\r\n",
        "from tensorflow.keras.models import Sequential\r\n",
        "from tensorflow.keras.optimizers import Adam\r\n",
        "from tensorflow.keras import regularizers\r\n",
        "import tensorflow.keras.utils as ku \r\n",
        "import numpy as np\r\n",
        "import pandas as pd"
      ],
      "execution_count": 1,
      "outputs": []
    },
    {
      "cell_type": "markdown",
      "metadata": {
        "id": "UGg4eBw_Pfb0"
      },
      "source": [
        "**Download Dataset**"
      ]
    },
    {
      "cell_type": "code",
      "metadata": {
        "colab": {
          "resources": {
            "http://localhost:8080/nbextensions/google.colab/files.js": {
              "data": "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",
              "ok": true,
              "headers": [
                [
                  "content-type",
                  "application/javascript"
                ]
              ],
              "status": 200,
              "status_text": ""
            }
          },
          "base_uri": "https://localhost:8080/",
          "height": 90
        },
        "id": "UK--VlXCLR6Q",
        "outputId": "447e5f13-a164-4b81-af08-8e4c3df22a6f"
      },
      "source": [
        "from google.colab import files\r\n",
        "files.upload()"
      ],
      "execution_count": 2,
      "outputs": [
        {
          "output_type": "display_data",
          "data": {
            "text/html": [
              "\n",
              "     <input type=\"file\" id=\"files-81808415-1e65-4a77-95ea-73b17e26eb03\" name=\"files[]\" multiple disabled\n",
              "        style=\"border:none\" />\n",
              "     <output id=\"result-81808415-1e65-4a77-95ea-73b17e26eb03\">\n",
              "      Upload widget is only available when the cell has been executed in the\n",
              "      current browser session. Please rerun this cell to enable.\n",
              "      </output>\n",
              "      <script src=\"/nbextensions/google.colab/files.js\"></script> "
            ],
            "text/plain": [
              "<IPython.core.display.HTML object>"
            ]
          },
          "metadata": {
            "tags": []
          }
        },
        {
          "output_type": "stream",
          "text": [
            "Saving kaggle.json to kaggle.json\n"
          ],
          "name": "stdout"
        },
        {
          "output_type": "execute_result",
          "data": {
            "text/plain": [
              "{'kaggle.json': b'{\"username\":\"madhurimamaji\",\"key\":\"xxxx............xxxx\"}'}"
            ]
          },
          "metadata": {
            "tags": []
          },
          "execution_count": 2
        }
      ]
    },
    {
      "cell_type": "code",
      "metadata": {
        "id": "jCpaZ_BJNMTz"
      },
      "source": [
        "!mkdir -p ~/.kaggle\r\n",
        "!cp kaggle.json ~/.kaggle/\r\n",
        "\r\n",
        "#change permission\r\n",
        "!chmod 600 ~/.kaggle/kaggle.json"
      ],
      "execution_count": null,
      "outputs": []
    },
    {
      "cell_type": "code",
      "metadata": {
        "colab": {
          "base_uri": "https://localhost:8080/"
        },
        "id": "uE0Ngl44NYsU",
        "outputId": "0499f6f2-b896-4b95-9db7-a8fd15b55113"
      },
      "source": [
        "!kaggle datasets download -d archanghosh/robert-frost-collection"
      ],
      "execution_count": null,
      "outputs": [
        {
          "output_type": "stream",
          "text": [
            "Downloading robert-frost-collection.zip to /content\n",
            "\r  0% 0.00/91.7k [00:00<?, ?B/s]\n",
            "\r100% 91.7k/91.7k [00:00<00:00, 33.9MB/s]\n"
          ],
          "name": "stdout"
        }
      ]
    },
    {
      "cell_type": "code",
      "metadata": {
        "colab": {
          "base_uri": "https://localhost:8080/"
        },
        "id": "83hGy8wNNhUY",
        "outputId": "68542392-261b-48ff-9fa2-3600a34f4483"
      },
      "source": [
        "from zipfile import ZipFile\r\n",
        "file_name = \"robert-frost-collection.zip\"\r\n",
        "with ZipFile(file_name,'r') as zip:\r\n",
        "  zip.extractall()\r\n",
        "  print('Done')"
      ],
      "execution_count": null,
      "outputs": [
        {
          "output_type": "stream",
          "text": [
            "Done\n"
          ],
          "name": "stdout"
        }
      ]
    },
    {
      "cell_type": "markdown",
      "metadata": {
        "id": "4oxPc1awPY1a"
      },
      "source": [
        "**Data preparation**"
      ]
    },
    {
      "cell_type": "code",
      "metadata": {
        "colab": {
          "base_uri": "https://localhost:8080/",
          "height": 195
        },
        "id": "cH64ndPKNsoq",
        "outputId": "64069514-5468-4b85-ec5b-b1c0cd2e4f4f"
      },
      "source": [
        "dataset = pd.read_csv('robert_frost_collection.csv')\r\n",
        "dataset.head()"
      ],
      "execution_count": null,
      "outputs": [
        {
          "output_type": "execute_result",
          "data": {
            "text/html": [
              "<div>\n",
              "<style scoped>\n",
              "    .dataframe tbody tr th:only-of-type {\n",
              "        vertical-align: middle;\n",
              "    }\n",
              "\n",
              "    .dataframe tbody tr th {\n",
              "        vertical-align: top;\n",
              "    }\n",
              "\n",
              "    .dataframe thead th {\n",
              "        text-align: right;\n",
              "    }\n",
              "</style>\n",
              "<table border=\"1\" class=\"dataframe\">\n",
              "  <thead>\n",
              "    <tr style=\"text-align: right;\">\n",
              "      <th></th>\n",
              "      <th>Name</th>\n",
              "      <th>Content</th>\n",
              "      <th>Collection</th>\n",
              "      <th>Year of Publication</th>\n",
              "    </tr>\n",
              "  </thead>\n",
              "  <tbody>\n",
              "    <tr>\n",
              "      <th>0</th>\n",
              "      <td>NaN</td>\n",
              "      <td>NaN</td>\n",
              "      <td>NaN</td>\n",
              "      <td>NaN</td>\n",
              "    </tr>\n",
              "    <tr>\n",
              "      <th>1</th>\n",
              "      <td>Stopping by Woods on a Snowy Evening</td>\n",
              "      <td>Whose woods these are I think I know.   \\nHis ...</td>\n",
              "      <td>New Hampshire</td>\n",
              "      <td>1923.0</td>\n",
              "    </tr>\n",
              "    <tr>\n",
              "      <th>2</th>\n",
              "      <td>Fire and Ice</td>\n",
              "      <td>Some say the world will end in fire,\\nSome say...</td>\n",
              "      <td>New Hampshire</td>\n",
              "      <td>1923.0</td>\n",
              "    </tr>\n",
              "    <tr>\n",
              "      <th>3</th>\n",
              "      <td>The Aim was Song</td>\n",
              "      <td>Before man came to blow it right\\nThe wind onc...</td>\n",
              "      <td>New Hampshire</td>\n",
              "      <td>1923.0</td>\n",
              "    </tr>\n",
              "    <tr>\n",
              "      <th>4</th>\n",
              "      <td>The Need of Being Versed in Country Things</td>\n",
              "      <td>The house had gone to bring again\\nTo the midn...</td>\n",
              "      <td>New Hampshire</td>\n",
              "      <td>1923.0</td>\n",
              "    </tr>\n",
              "  </tbody>\n",
              "</table>\n",
              "</div>"
            ],
            "text/plain": [
              "                                        Name   ... Year of Publication\n",
              "0                                         NaN  ...                 NaN\n",
              "1        Stopping by Woods on a Snowy Evening  ...              1923.0\n",
              "2                                Fire and Ice  ...              1923.0\n",
              "3                            The Aim was Song  ...              1923.0\n",
              "4  The Need of Being Versed in Country Things  ...              1923.0\n",
              "\n",
              "[5 rows x 4 columns]"
            ]
          },
          "metadata": {
            "tags": []
          },
          "execution_count": 2
        }
      ]
    },
    {
      "cell_type": "code",
      "metadata": {
        "colab": {
          "base_uri": "https://localhost:8080/",
          "height": 195
        },
        "id": "FVdDHNKwOLAp",
        "outputId": "ea5623fd-7c87-4770-ad88-d19e9f7a9df2"
      },
      "source": [
        "dataset = dataset[1:]\r\n",
        "dataset.head()"
      ],
      "execution_count": null,
      "outputs": [
        {
          "output_type": "execute_result",
          "data": {
            "text/html": [
              "<div>\n",
              "<style scoped>\n",
              "    .dataframe tbody tr th:only-of-type {\n",
              "        vertical-align: middle;\n",
              "    }\n",
              "\n",
              "    .dataframe tbody tr th {\n",
              "        vertical-align: top;\n",
              "    }\n",
              "\n",
              "    .dataframe thead th {\n",
              "        text-align: right;\n",
              "    }\n",
              "</style>\n",
              "<table border=\"1\" class=\"dataframe\">\n",
              "  <thead>\n",
              "    <tr style=\"text-align: right;\">\n",
              "      <th></th>\n",
              "      <th>Name</th>\n",
              "      <th>Content</th>\n",
              "      <th>Collection</th>\n",
              "      <th>Year of Publication</th>\n",
              "    </tr>\n",
              "  </thead>\n",
              "  <tbody>\n",
              "    <tr>\n",
              "      <th>1</th>\n",
              "      <td>Stopping by Woods on a Snowy Evening</td>\n",
              "      <td>Whose woods these are I think I know.   \\nHis ...</td>\n",
              "      <td>New Hampshire</td>\n",
              "      <td>1923.0</td>\n",
              "    </tr>\n",
              "    <tr>\n",
              "      <th>2</th>\n",
              "      <td>Fire and Ice</td>\n",
              "      <td>Some say the world will end in fire,\\nSome say...</td>\n",
              "      <td>New Hampshire</td>\n",
              "      <td>1923.0</td>\n",
              "    </tr>\n",
              "    <tr>\n",
              "      <th>3</th>\n",
              "      <td>The Aim was Song</td>\n",
              "      <td>Before man came to blow it right\\nThe wind onc...</td>\n",
              "      <td>New Hampshire</td>\n",
              "      <td>1923.0</td>\n",
              "    </tr>\n",
              "    <tr>\n",
              "      <th>4</th>\n",
              "      <td>The Need of Being Versed in Country Things</td>\n",
              "      <td>The house had gone to bring again\\nTo the midn...</td>\n",
              "      <td>New Hampshire</td>\n",
              "      <td>1923.0</td>\n",
              "    </tr>\n",
              "    <tr>\n",
              "      <th>5</th>\n",
              "      <td>I Will Sing You One O</td>\n",
              "      <td>It was long I lay\\nAwake that night\\nWishing t...</td>\n",
              "      <td>New Hampshire</td>\n",
              "      <td>1923.0</td>\n",
              "    </tr>\n",
              "  </tbody>\n",
              "</table>\n",
              "</div>"
            ],
            "text/plain": [
              "                                        Name   ... Year of Publication\n",
              "1        Stopping by Woods on a Snowy Evening  ...              1923.0\n",
              "2                                Fire and Ice  ...              1923.0\n",
              "3                            The Aim was Song  ...              1923.0\n",
              "4  The Need of Being Versed in Country Things  ...              1923.0\n",
              "5                       I Will Sing You One O  ...              1923.0\n",
              "\n",
              "[5 rows x 4 columns]"
            ]
          },
          "metadata": {
            "tags": []
          },
          "execution_count": 3
        }
      ]
    },
    {
      "cell_type": "code",
      "metadata": {
        "colab": {
          "base_uri": "https://localhost:8080/"
        },
        "id": "8ABa9jnkOglo",
        "outputId": "82e7b0b5-83cb-40f5-aa87-76a0cc4015cc"
      },
      "source": [
        "dataset.shape"
      ],
      "execution_count": null,
      "outputs": [
        {
          "output_type": "execute_result",
          "data": {
            "text/plain": [
              "(108, 4)"
            ]
          },
          "metadata": {
            "tags": []
          },
          "execution_count": 4
        }
      ]
    },
    {
      "cell_type": "code",
      "metadata": {
        "id": "OyB8KElIOpAm"
      },
      "source": [
        "corpus = []\r\n",
        "text = [lines for lines in dataset.Content]\r\n",
        "for item in text:\r\n",
        "  temp = item.split('\\n')\r\n",
        "  for i in temp:\r\n",
        "    corpus.append(i.lower())"
      ],
      "execution_count": null,
      "outputs": []
    },
    {
      "cell_type": "code",
      "metadata": {
        "colab": {
          "base_uri": "https://localhost:8080/"
        },
        "id": "5eCY5GVnQ9aG",
        "outputId": "b276f884-bffb-4934-a535-461e8ced4de1"
      },
      "source": [
        "print(\"Lenght of corpus: \", len(corpus))\r\n",
        "corpus[0:10]"
      ],
      "execution_count": null,
      "outputs": [
        {
          "output_type": "stream",
          "text": [
            "Lenght of corpus:  5538\n"
          ],
          "name": "stdout"
        },
        {
          "output_type": "execute_result",
          "data": {
            "text/plain": [
              "['whose woods these are i think i know.   ',\n",
              " 'his house is in the village though;   ',\n",
              " 'he will not see me stopping here   ',\n",
              " 'to watch his woods fill up with snow.   ',\n",
              " 'my little horse must think it queer   ',\n",
              " 'to stop without a farmhouse near   ',\n",
              " 'between the woods and frozen lake   ',\n",
              " 'the darkest evening of the year.   ',\n",
              " 'he gives his harness bells a shake   ',\n",
              " 'to ask if there is some mistake.   ']"
            ]
          },
          "metadata": {
            "tags": []
          },
          "execution_count": 6
        }
      ]
    },
    {
      "cell_type": "markdown",
      "metadata": {
        "id": "hhj1qmkoXv5_"
      },
      "source": [
        "**Tokenize**"
      ]
    },
    {
      "cell_type": "code",
      "metadata": {
        "id": "O-Zp9vp-SSBr"
      },
      "source": [
        "tokenizer = Tokenizer()\r\n",
        "tokenizer.fit_on_texts(corpus)\r\n",
        "total_words = len(tokenizer.word_index) + 1\r\n",
        "\r\n",
        "# create input sequences using list of tokens\r\n",
        "input_sequences = []\r\n",
        "for line in corpus:\r\n",
        "\ttoken_list = tokenizer.texts_to_sequences([line])[0]\r\n",
        "\tfor i in range(1, len(token_list)):\r\n",
        "\t\tn_gram_sequence = token_list[:i+1]\r\n",
        "\t\tinput_sequences.append(n_gram_sequence)\r\n",
        "\r\n",
        "\r\n",
        "# pad sequences \r\n",
        "max_sequence_len = max([len(x) for x in input_sequences])\r\n",
        "input_sequences = np.array(pad_sequences(input_sequences, maxlen=max_sequence_len, padding='pre'))\r\n",
        "\r\n",
        "# create predictors and label\r\n",
        "predictors, label = input_sequences[:,:-1],input_sequences[:,-1]\r\n",
        "\r\n",
        "label = ku.to_categorical(label, num_classes=total_words)"
      ],
      "execution_count": null,
      "outputs": []
    },
    {
      "cell_type": "code",
      "metadata": {
        "colab": {
          "base_uri": "https://localhost:8080/"
        },
        "id": "3THBRKqqYypH",
        "outputId": "4840f9d5-873d-4f16-e09c-ed331fbc4666"
      },
      "source": [
        "print(\"Input sequence: \", input_sequences.shape)\r\n",
        "print(\"Predictors: \", predictors.shape)\r\n",
        "print(\"Label: \",label.shape)\r\n",
        "print(\"Total words: \",total_words)"
      ],
      "execution_count": null,
      "outputs": [
        {
          "output_type": "stream",
          "text": [
            "Input sequence:  (37547, 20)\n",
            "Predictors:  (37547, 19)\n",
            "Label:  (37547, 5639)\n",
            "Total words:  5639\n"
          ],
          "name": "stdout"
        }
      ]
    },
    {
      "cell_type": "markdown",
      "metadata": {
        "id": "-hwDaSHEav9U"
      },
      "source": [
        "**Model**"
      ]
    },
    {
      "cell_type": "code",
      "metadata": {
        "colab": {
          "base_uri": "https://localhost:8080/"
        },
        "id": "Yety3u-pZNgX",
        "outputId": "22a572a5-64f7-431f-9098-c371dc277c3e"
      },
      "source": [
        "model = Sequential()\r\n",
        "model.add(Embedding(total_words, 100, input_length=max_sequence_len-1))\r\n",
        "model.add(Bidirectional(LSTM(150, return_sequences = True)))\r\n",
        "#model.add(Dropout(0.2))\r\n",
        "model.add(LSTM(100))\r\n",
        "#model.add(Dense(total_words/2, activation='relu', kernel_regularizer=regularizers.l2(0.01)))\r\n",
        "model.add(Dense(total_words, activation='softmax'))\r\n",
        "model.compile(loss='categorical_crossentropy', optimizer='adam', metrics=['accuracy'])\r\n",
        "print(model.summary())"
      ],
      "execution_count": null,
      "outputs": [
        {
          "output_type": "stream",
          "text": [
            "Model: \"sequential_1\"\n",
            "_________________________________________________________________\n",
            "Layer (type)                 Output Shape              Param #   \n",
            "=================================================================\n",
            "embedding_1 (Embedding)      (None, 19, 100)           563900    \n",
            "_________________________________________________________________\n",
            "bidirectional_1 (Bidirection (None, 19, 300)           301200    \n",
            "_________________________________________________________________\n",
            "lstm_2 (LSTM)                (None, 100)               160400    \n",
            "_________________________________________________________________\n",
            "dense_1 (Dense)              (None, 5639)              569539    \n",
            "=================================================================\n",
            "Total params: 1,595,039\n",
            "Trainable params: 1,595,039\n",
            "Non-trainable params: 0\n",
            "_________________________________________________________________\n",
            "None\n"
          ],
          "name": "stdout"
        }
      ]
    },
    {
      "cell_type": "code",
      "metadata": {
        "colab": {
          "base_uri": "https://localhost:8080/"
        },
        "id": "iE8aOq5Ca4KK",
        "outputId": "53f417e8-a26e-4617-ee3f-afa446152333"
      },
      "source": [
        "history = model.fit(predictors, label, epochs=150, verbose=1)"
      ],
      "execution_count": null,
      "outputs": [
        {
          "output_type": "stream",
          "text": [
            "Epoch 1/150\n",
            "1174/1174 [==============================] - 15s 13ms/step - loss: 6.8073 - accuracy: 0.0526\n",
            "Epoch 2/150\n",
            "1174/1174 [==============================] - 14s 12ms/step - loss: 6.3159 - accuracy: 0.0596\n",
            "Epoch 3/150\n",
            "1174/1174 [==============================] - 14s 12ms/step - loss: 6.0763 - accuracy: 0.0699\n",
            "Epoch 4/150\n",
            "1174/1174 [==============================] - 15s 12ms/step - loss: 5.8510 - accuracy: 0.0799\n",
            "Epoch 5/150\n",
            "1174/1174 [==============================] - 14s 12ms/step - loss: 5.6482 - accuracy: 0.0877\n",
            "Epoch 6/150\n",
            "1174/1174 [==============================] - 15s 13ms/step - loss: 5.4712 - accuracy: 0.0947\n",
            "Epoch 7/150\n",
            "1174/1174 [==============================] - 15s 13ms/step - loss: 5.3012 - accuracy: 0.1028\n",
            "Epoch 8/150\n",
            "1174/1174 [==============================] - 15s 13ms/step - loss: 5.1416 - accuracy: 0.1095\n",
            "Epoch 9/150\n",
            "1174/1174 [==============================] - 15s 13ms/step - loss: 4.9828 - accuracy: 0.1175\n",
            "Epoch 10/150\n",
            "1174/1174 [==============================] - 15s 13ms/step - loss: 4.8336 - accuracy: 0.1249\n",
            "Epoch 11/150\n",
            "1174/1174 [==============================] - 15s 12ms/step - loss: 4.6850 - accuracy: 0.1351\n",
            "Epoch 12/150\n",
            "1174/1174 [==============================] - 15s 12ms/step - loss: 4.5388 - accuracy: 0.1447\n",
            "Epoch 13/150\n",
            "1174/1174 [==============================] - 15s 13ms/step - loss: 4.3967 - accuracy: 0.1553\n",
            "Epoch 14/150\n",
            "1174/1174 [==============================] - 15s 12ms/step - loss: 4.2579 - accuracy: 0.1692\n",
            "Epoch 15/150\n",
            "1174/1174 [==============================] - 15s 12ms/step - loss: 4.1213 - accuracy: 0.1840\n",
            "Epoch 16/150\n",
            "1174/1174 [==============================] - 15s 12ms/step - loss: 3.9930 - accuracy: 0.1995\n",
            "Epoch 17/150\n",
            "1174/1174 [==============================] - 15s 12ms/step - loss: 3.8646 - accuracy: 0.2190\n",
            "Epoch 18/150\n",
            "1174/1174 [==============================] - 15s 12ms/step - loss: 3.7423 - accuracy: 0.2403\n",
            "Epoch 19/150\n",
            "1174/1174 [==============================] - 15s 12ms/step - loss: 3.6277 - accuracy: 0.2569\n",
            "Epoch 20/150\n",
            "1174/1174 [==============================] - 15s 12ms/step - loss: 3.5123 - accuracy: 0.2794\n",
            "Epoch 21/150\n",
            "1174/1174 [==============================] - 15s 12ms/step - loss: 3.4037 - accuracy: 0.2971\n",
            "Epoch 22/150\n",
            "1174/1174 [==============================] - 15s 13ms/step - loss: 3.3012 - accuracy: 0.3137\n",
            "Epoch 23/150\n",
            "1174/1174 [==============================] - 15s 13ms/step - loss: 3.1978 - accuracy: 0.3320\n",
            "Epoch 24/150\n",
            "1174/1174 [==============================] - 15s 13ms/step - loss: 3.1006 - accuracy: 0.3501\n",
            "Epoch 25/150\n",
            "1174/1174 [==============================] - 15s 13ms/step - loss: 3.0058 - accuracy: 0.3686\n",
            "Epoch 26/150\n",
            "1174/1174 [==============================] - 15s 13ms/step - loss: 2.9174 - accuracy: 0.3841\n",
            "Epoch 27/150\n",
            "1174/1174 [==============================] - 16s 13ms/step - loss: 2.8287 - accuracy: 0.4006\n",
            "Epoch 28/150\n",
            "1174/1174 [==============================] - 16s 13ms/step - loss: 2.7446 - accuracy: 0.4169\n",
            "Epoch 29/150\n",
            "1174/1174 [==============================] - 15s 13ms/step - loss: 2.6609 - accuracy: 0.4346\n",
            "Epoch 30/150\n",
            "1174/1174 [==============================] - 15s 12ms/step - loss: 2.5785 - accuracy: 0.4514\n",
            "Epoch 31/150\n",
            "1174/1174 [==============================] - 15s 12ms/step - loss: 2.4988 - accuracy: 0.4682\n",
            "Epoch 32/150\n",
            "1174/1174 [==============================] - 15s 12ms/step - loss: 2.4223 - accuracy: 0.4849\n",
            "Epoch 33/150\n",
            "1174/1174 [==============================] - 15s 12ms/step - loss: 2.3480 - accuracy: 0.5018\n",
            "Epoch 34/150\n",
            "1174/1174 [==============================] - 15s 12ms/step - loss: 2.2756 - accuracy: 0.5159\n",
            "Epoch 35/150\n",
            "1174/1174 [==============================] - 15s 12ms/step - loss: 2.2077 - accuracy: 0.5275\n",
            "Epoch 36/150\n",
            "1174/1174 [==============================] - 15s 12ms/step - loss: 2.1376 - accuracy: 0.5468\n",
            "Epoch 37/150\n",
            "1174/1174 [==============================] - 15s 12ms/step - loss: 2.0726 - accuracy: 0.5600\n",
            "Epoch 38/150\n",
            "1174/1174 [==============================] - 15s 12ms/step - loss: 2.0095 - accuracy: 0.5736\n",
            "Epoch 39/150\n",
            "1174/1174 [==============================] - 15s 12ms/step - loss: 1.9482 - accuracy: 0.5856\n",
            "Epoch 40/150\n",
            "1174/1174 [==============================] - 15s 13ms/step - loss: 1.8895 - accuracy: 0.5995\n",
            "Epoch 41/150\n",
            "1174/1174 [==============================] - 15s 12ms/step - loss: 1.8304 - accuracy: 0.6122\n",
            "Epoch 42/150\n",
            "1174/1174 [==============================] - 15s 12ms/step - loss: 1.7783 - accuracy: 0.6242\n",
            "Epoch 43/150\n",
            "1174/1174 [==============================] - 15s 13ms/step - loss: 1.7221 - accuracy: 0.6363\n",
            "Epoch 44/150\n",
            "1174/1174 [==============================] - 15s 13ms/step - loss: 1.6724 - accuracy: 0.6471\n",
            "Epoch 45/150\n",
            "1174/1174 [==============================] - 15s 12ms/step - loss: 1.6214 - accuracy: 0.6582\n",
            "Epoch 46/150\n",
            "1174/1174 [==============================] - 15s 12ms/step - loss: 1.5793 - accuracy: 0.6656\n",
            "Epoch 47/150\n",
            "1174/1174 [==============================] - 15s 12ms/step - loss: 1.5281 - accuracy: 0.6789\n",
            "Epoch 48/150\n",
            "1174/1174 [==============================] - 15s 13ms/step - loss: 1.4860 - accuracy: 0.6871\n",
            "Epoch 49/150\n",
            "1174/1174 [==============================] - 15s 13ms/step - loss: 1.4435 - accuracy: 0.6992\n",
            "Epoch 50/150\n",
            "1174/1174 [==============================] - 15s 12ms/step - loss: 1.4033 - accuracy: 0.7055\n",
            "Epoch 51/150\n",
            "1174/1174 [==============================] - 15s 12ms/step - loss: 1.3715 - accuracy: 0.7115\n",
            "Epoch 52/150\n",
            "1174/1174 [==============================] - 15s 12ms/step - loss: 1.3343 - accuracy: 0.7220\n",
            "Epoch 53/150\n",
            "1174/1174 [==============================] - 15s 12ms/step - loss: 1.2979 - accuracy: 0.7277\n",
            "Epoch 54/150\n",
            "1174/1174 [==============================] - 15s 13ms/step - loss: 1.2606 - accuracy: 0.7369\n",
            "Epoch 55/150\n",
            "1174/1174 [==============================] - 15s 12ms/step - loss: 1.2335 - accuracy: 0.7418\n",
            "Epoch 56/150\n",
            "1174/1174 [==============================] - 15s 12ms/step - loss: 1.2056 - accuracy: 0.7489\n",
            "Epoch 57/150\n",
            "1174/1174 [==============================] - 15s 12ms/step - loss: 1.1749 - accuracy: 0.7552\n",
            "Epoch 58/150\n",
            "1174/1174 [==============================] - 15s 12ms/step - loss: 1.1447 - accuracy: 0.7605\n",
            "Epoch 59/150\n",
            "1174/1174 [==============================] - 15s 12ms/step - loss: 1.1262 - accuracy: 0.7629\n",
            "Epoch 60/150\n",
            "1174/1174 [==============================] - 15s 12ms/step - loss: 1.0941 - accuracy: 0.7720\n",
            "Epoch 61/150\n",
            "1174/1174 [==============================] - 15s 12ms/step - loss: 1.0780 - accuracy: 0.7738\n",
            "Epoch 62/150\n",
            "1174/1174 [==============================] - 15s 12ms/step - loss: 1.0515 - accuracy: 0.7776\n",
            "Epoch 63/150\n",
            "1174/1174 [==============================] - 15s 13ms/step - loss: 1.0298 - accuracy: 0.7840\n",
            "Epoch 64/150\n",
            "1174/1174 [==============================] - 15s 13ms/step - loss: 1.0095 - accuracy: 0.7860\n",
            "Epoch 65/150\n",
            "1174/1174 [==============================] - 15s 13ms/step - loss: 0.9862 - accuracy: 0.7910\n",
            "Epoch 66/150\n",
            "1174/1174 [==============================] - 15s 12ms/step - loss: 0.9770 - accuracy: 0.7911\n",
            "Epoch 67/150\n",
            "1174/1174 [==============================] - 15s 13ms/step - loss: 0.9623 - accuracy: 0.7942\n",
            "Epoch 68/150\n",
            "1174/1174 [==============================] - 15s 13ms/step - loss: 0.9349 - accuracy: 0.8011\n",
            "Epoch 69/150\n",
            "1174/1174 [==============================] - 15s 13ms/step - loss: 0.9220 - accuracy: 0.8031\n",
            "Epoch 70/150\n",
            "1174/1174 [==============================] - 15s 13ms/step - loss: 0.9106 - accuracy: 0.8038\n",
            "Epoch 71/150\n",
            "1174/1174 [==============================] - 15s 13ms/step - loss: 0.8984 - accuracy: 0.8057\n",
            "Epoch 72/150\n",
            "1174/1174 [==============================] - 15s 13ms/step - loss: 0.8807 - accuracy: 0.8087\n",
            "Epoch 73/150\n",
            "1174/1174 [==============================] - 15s 13ms/step - loss: 0.8727 - accuracy: 0.8096\n",
            "Epoch 74/150\n",
            "1174/1174 [==============================] - 15s 13ms/step - loss: 0.8582 - accuracy: 0.8134\n",
            "Epoch 75/150\n",
            "1174/1174 [==============================] - 16s 13ms/step - loss: 0.8545 - accuracy: 0.8124\n",
            "Epoch 76/150\n",
            "1174/1174 [==============================] - 15s 13ms/step - loss: 0.8413 - accuracy: 0.8142\n",
            "Epoch 77/150\n",
            "1174/1174 [==============================] - 15s 13ms/step - loss: 0.8261 - accuracy: 0.8185\n",
            "Epoch 78/150\n",
            "1174/1174 [==============================] - 15s 13ms/step - loss: 0.8129 - accuracy: 0.8186\n",
            "Epoch 79/150\n",
            "1174/1174 [==============================] - 15s 13ms/step - loss: 0.8124 - accuracy: 0.8191\n",
            "Epoch 80/150\n",
            "1174/1174 [==============================] - 15s 13ms/step - loss: 0.8086 - accuracy: 0.8200\n",
            "Epoch 81/150\n",
            "1174/1174 [==============================] - 15s 13ms/step - loss: 0.7953 - accuracy: 0.8212\n",
            "Epoch 82/150\n",
            "1174/1174 [==============================] - 15s 13ms/step - loss: 0.7890 - accuracy: 0.8224\n",
            "Epoch 83/150\n",
            "1174/1174 [==============================] - 15s 13ms/step - loss: 0.7866 - accuracy: 0.8214\n",
            "Epoch 84/150\n",
            "1174/1174 [==============================] - 15s 13ms/step - loss: 0.7720 - accuracy: 0.8248\n",
            "Epoch 85/150\n",
            "1174/1174 [==============================] - 15s 13ms/step - loss: 0.7728 - accuracy: 0.8235\n",
            "Epoch 86/150\n",
            "1174/1174 [==============================] - 15s 13ms/step - loss: 0.7596 - accuracy: 0.8260\n",
            "Epoch 87/150\n",
            "1174/1174 [==============================] - 15s 13ms/step - loss: 0.7544 - accuracy: 0.8258\n",
            "Epoch 88/150\n",
            "1174/1174 [==============================] - 15s 13ms/step - loss: 0.7573 - accuracy: 0.8262\n",
            "Epoch 89/150\n",
            "1174/1174 [==============================] - 15s 13ms/step - loss: 0.7516 - accuracy: 0.8274\n",
            "Epoch 90/150\n",
            "1174/1174 [==============================] - 16s 13ms/step - loss: 0.7349 - accuracy: 0.8296\n",
            "Epoch 91/150\n",
            "1174/1174 [==============================] - 15s 13ms/step - loss: 0.7295 - accuracy: 0.8292\n",
            "Epoch 92/150\n",
            "1174/1174 [==============================] - 15s 13ms/step - loss: 0.7403 - accuracy: 0.8261\n",
            "Epoch 93/150\n",
            "1174/1174 [==============================] - 15s 13ms/step - loss: 0.7405 - accuracy: 0.8255\n",
            "Epoch 94/150\n",
            "1174/1174 [==============================] - 15s 13ms/step - loss: 0.7200 - accuracy: 0.8306\n",
            "Epoch 95/150\n",
            "1174/1174 [==============================] - 15s 13ms/step - loss: 0.7210 - accuracy: 0.8292\n",
            "Epoch 96/150\n",
            "1174/1174 [==============================] - 15s 13ms/step - loss: 0.7216 - accuracy: 0.8287\n",
            "Epoch 97/150\n",
            "1174/1174 [==============================] - 15s 13ms/step - loss: 0.7118 - accuracy: 0.8308\n",
            "Epoch 98/150\n",
            "1174/1174 [==============================] - 15s 13ms/step - loss: 0.7062 - accuracy: 0.8304\n",
            "Epoch 99/150\n",
            "1174/1174 [==============================] - 15s 13ms/step - loss: 0.7055 - accuracy: 0.8312\n",
            "Epoch 100/150\n",
            "1174/1174 [==============================] - 16s 13ms/step - loss: 0.7045 - accuracy: 0.8307\n",
            "Epoch 101/150\n",
            "1174/1174 [==============================] - 15s 13ms/step - loss: 0.6983 - accuracy: 0.8312\n",
            "Epoch 102/150\n",
            "1174/1174 [==============================] - 15s 13ms/step - loss: 0.7023 - accuracy: 0.8299\n",
            "Epoch 103/150\n",
            "1174/1174 [==============================] - 15s 13ms/step - loss: 0.6950 - accuracy: 0.8317\n",
            "Epoch 104/150\n",
            "1174/1174 [==============================] - 15s 13ms/step - loss: 0.6921 - accuracy: 0.8320\n",
            "Epoch 105/150\n",
            "1174/1174 [==============================] - 15s 13ms/step - loss: 0.6856 - accuracy: 0.8324\n",
            "Epoch 106/150\n",
            "1174/1174 [==============================] - 15s 13ms/step - loss: 0.6855 - accuracy: 0.8323\n",
            "Epoch 107/150\n",
            "1174/1174 [==============================] - 15s 13ms/step - loss: 0.6917 - accuracy: 0.8319\n",
            "Epoch 108/150\n",
            "1174/1174 [==============================] - 15s 13ms/step - loss: 0.6842 - accuracy: 0.8317\n",
            "Epoch 109/150\n",
            "1174/1174 [==============================] - 15s 13ms/step - loss: 0.6767 - accuracy: 0.8324\n",
            "Epoch 110/150\n",
            "1174/1174 [==============================] - 16s 13ms/step - loss: 0.6781 - accuracy: 0.8328\n",
            "Epoch 111/150\n",
            "1174/1174 [==============================] - 15s 13ms/step - loss: 0.6811 - accuracy: 0.8318\n",
            "Epoch 112/150\n",
            "1174/1174 [==============================] - 15s 13ms/step - loss: 0.6787 - accuracy: 0.8303\n",
            "Epoch 113/150\n",
            "1174/1174 [==============================] - 15s 13ms/step - loss: 0.6657 - accuracy: 0.8334\n",
            "Epoch 114/150\n",
            "1174/1174 [==============================] - 15s 13ms/step - loss: 0.6704 - accuracy: 0.8345\n",
            "Epoch 115/150\n",
            "1174/1174 [==============================] - 15s 13ms/step - loss: 0.6827 - accuracy: 0.8299\n",
            "Epoch 116/150\n",
            "1174/1174 [==============================] - 15s 13ms/step - loss: 0.6656 - accuracy: 0.8321\n",
            "Epoch 117/150\n",
            "1174/1174 [==============================] - 15s 13ms/step - loss: 0.6629 - accuracy: 0.8346\n",
            "Epoch 118/150\n",
            "1174/1174 [==============================] - 15s 13ms/step - loss: 0.6616 - accuracy: 0.8335\n",
            "Epoch 119/150\n",
            "1174/1174 [==============================] - 16s 13ms/step - loss: 0.6678 - accuracy: 0.8314\n",
            "Epoch 120/150\n",
            "1174/1174 [==============================] - 16s 14ms/step - loss: 0.6718 - accuracy: 0.8305\n",
            "Epoch 121/150\n",
            "1174/1174 [==============================] - 16s 13ms/step - loss: 0.6657 - accuracy: 0.8326\n",
            "Epoch 122/150\n",
            "1174/1174 [==============================] - 16s 13ms/step - loss: 0.6607 - accuracy: 0.8324\n",
            "Epoch 123/150\n",
            "1174/1174 [==============================] - 15s 13ms/step - loss: 0.6514 - accuracy: 0.8344\n",
            "Epoch 124/150\n",
            "1174/1174 [==============================] - 15s 13ms/step - loss: 0.6491 - accuracy: 0.8353\n",
            "Epoch 125/150\n",
            "1174/1174 [==============================] - 16s 13ms/step - loss: 0.6758 - accuracy: 0.8296\n",
            "Epoch 126/150\n",
            "1174/1174 [==============================] - 16s 13ms/step - loss: 0.6665 - accuracy: 0.8303\n",
            "Epoch 127/150\n",
            "1174/1174 [==============================] - 16s 13ms/step - loss: 0.6494 - accuracy: 0.8348\n",
            "Epoch 128/150\n",
            "1174/1174 [==============================] - 15s 13ms/step - loss: 0.6423 - accuracy: 0.8354\n",
            "Epoch 129/150\n",
            "1174/1174 [==============================] - 16s 13ms/step - loss: 0.6500 - accuracy: 0.8337\n",
            "Epoch 130/150\n",
            "1174/1174 [==============================] - 16s 13ms/step - loss: 0.6556 - accuracy: 0.8318\n",
            "Epoch 131/150\n",
            "1174/1174 [==============================] - 15s 13ms/step - loss: 0.6494 - accuracy: 0.8336\n",
            "Epoch 132/150\n",
            "1174/1174 [==============================] - 15s 13ms/step - loss: 0.6436 - accuracy: 0.8346\n",
            "Epoch 133/150\n",
            "1174/1174 [==============================] - 15s 13ms/step - loss: 0.6456 - accuracy: 0.8334\n",
            "Epoch 134/150\n",
            "1174/1174 [==============================] - 15s 13ms/step - loss: 0.6469 - accuracy: 0.8336\n",
            "Epoch 135/150\n",
            "1174/1174 [==============================] - 15s 13ms/step - loss: 0.6532 - accuracy: 0.8320\n",
            "Epoch 136/150\n",
            "1174/1174 [==============================] - 15s 13ms/step - loss: 0.6536 - accuracy: 0.8309\n",
            "Epoch 137/150\n",
            "1174/1174 [==============================] - 15s 13ms/step - loss: 0.6461 - accuracy: 0.8331\n",
            "Epoch 138/150\n",
            "1174/1174 [==============================] - 15s 13ms/step - loss: 0.6401 - accuracy: 0.8349\n",
            "Epoch 139/150\n",
            "1174/1174 [==============================] - 16s 13ms/step - loss: 0.6346 - accuracy: 0.8353\n",
            "Epoch 140/150\n",
            "1174/1174 [==============================] - 15s 13ms/step - loss: 0.6410 - accuracy: 0.8334\n",
            "Epoch 141/150\n",
            "1174/1174 [==============================] - 15s 13ms/step - loss: 0.6513 - accuracy: 0.8310\n",
            "Epoch 142/150\n",
            "1174/1174 [==============================] - 16s 13ms/step - loss: 0.6415 - accuracy: 0.8343\n",
            "Epoch 143/150\n",
            "1174/1174 [==============================] - 16s 13ms/step - loss: 0.6354 - accuracy: 0.8344\n",
            "Epoch 144/150\n",
            "1174/1174 [==============================] - 15s 13ms/step - loss: 0.6378 - accuracy: 0.8336\n",
            "Epoch 145/150\n",
            "1174/1174 [==============================] - 16s 13ms/step - loss: 0.6495 - accuracy: 0.8303\n",
            "Epoch 146/150\n",
            "1174/1174 [==============================] - 15s 13ms/step - loss: 0.6328 - accuracy: 0.8343\n",
            "Epoch 147/150\n",
            "1174/1174 [==============================] - 16s 13ms/step - loss: 0.6316 - accuracy: 0.8340\n",
            "Epoch 148/150\n",
            "1174/1174 [==============================] - 15s 13ms/step - loss: 0.6343 - accuracy: 0.8332\n",
            "Epoch 149/150\n",
            "1174/1174 [==============================] - 16s 13ms/step - loss: 0.6330 - accuracy: 0.8345\n",
            "Epoch 150/150\n",
            "1174/1174 [==============================] - 16s 13ms/step - loss: 0.6376 - accuracy: 0.8322\n"
          ],
          "name": "stdout"
        }
      ]
    },
    {
      "cell_type": "code",
      "metadata": {
        "colab": {
          "base_uri": "https://localhost:8080/",
          "height": 545
        },
        "id": "Lo-w0dtea8oJ",
        "outputId": "e1e72e46-fc20-4a9c-93d7-55e23c8be902"
      },
      "source": [
        "import matplotlib.pyplot as plt\r\n",
        "acc = history.history['accuracy']\r\n",
        "loss = history.history['loss']\r\n",
        "\r\n",
        "epochs = range(len(acc))\r\n",
        "\r\n",
        "plt.plot(epochs, acc, 'b', label='Training accuracy')\r\n",
        "plt.title('Training accuracy')\r\n",
        "\r\n",
        "plt.figure()\r\n",
        "\r\n",
        "plt.plot(epochs, loss, 'b', label='Training Loss')\r\n",
        "plt.title('Training loss')\r\n",
        "plt.legend()\r\n",
        "\r\n",
        "plt.show()"
      ],
      "execution_count": null,
      "outputs": [
        {
          "output_type": "display_data",
          "data": {
            "image/png": "[encoded data removed]",
            "text/plain": [
              "<Figure size 432x288 with 1 Axes>"
            ]
          },
          "metadata": {
            "tags": [],
            "needs_background": "light"
          }
        },
        {
          "output_type": "display_data",
          "data": {
            "image/png": "[encoded data removed]",
            "text/plain": [
              "<Figure size 432x288 with 1 Axes>"
            ]
          },
          "metadata": {
            "tags": [],
            "needs_background": "light"
          }
        }
      ]
    },
    {
      "cell_type": "markdown",
      "metadata": {
        "id": "SYO2bcjNRfmm"
      },
      "source": [
        "**Text Generation**"
      ]
    },
    {
      "cell_type": "code",
      "metadata": {
        "id": "FLjsZAN1brTP"
      },
      "source": [
        "def generate_text(seed_text, next_words, model=model, max_sequence_len=max_sequence_len):\r\n",
        "    for _ in range(next_words):\r\n",
        "        token_list = tokenizer.texts_to_sequences([seed_text])[0]\r\n",
        "        token_list = pad_sequences([token_list], maxlen=max_sequence_len-1, padding='pre')\r\n",
        "        #predicted = model.predict_classes(token_list, verbose=0)\r\n",
        "        predicted = np.argmax(model.predict(token_list, verbose=0), axis=-1)\r\n",
        "        \r\n",
        "        output_word = \"\"\r\n",
        "        for word,index in tokenizer.word_index.items():\r\n",
        "            if index == predicted:\r\n",
        "                output_word = word\r\n",
        "                break\r\n",
        "        seed_text += \" \"+output_word\r\n",
        "    return seed_text"
      ],
      "execution_count": null,
      "outputs": []
    },
    {
      "cell_type": "code",
      "metadata": {
        "colab": {
          "base_uri": "https://localhost:8080/"
        },
        "id": "X5PeRLHxbSIH",
        "outputId": "cfa4af07-b53d-4dec-822f-c2b739254d00"
      },
      "source": [
        "print(generate_text(\"Monsoon\", 15))"
      ],
      "execution_count": null,
      "outputs": [
        {
          "output_type": "stream",
          "text": [
            "Monsoon cleaves the interstellar gloom full of his clothes on his hand of fay perhaps ’\n"
          ],
          "name": "stdout"
        }
      ]
    },
    {
      "cell_type": "code",
      "metadata": {
        "colab": {
          "base_uri": "https://localhost:8080/"
        },
        "id": "4fQQBLqfba8b",
        "outputId": "67b55b7b-f27f-4256-99c9-782f94ad6b1b"
      },
      "source": [
        "print(generate_text(\"Up above the hill\", 11))"
      ],
      "execution_count": null,
      "outputs": [
        {
          "output_type": "stream",
          "text": [
            "Up above the hill along the wall i'd put in ask we wish for rain\n"
          ],
          "name": "stdout"
        }
      ]
    },
    {
      "cell_type": "code",
      "metadata": {
        "id": "xlMN5ufFlBSe",
        "colab": {
          "base_uri": "https://localhost:8080/"
        },
        "outputId": "37662d3e-2627-4e14-df51-fcc5439f2f81"
      },
      "source": [
        "print(generate_text(\"splendid day\", 20))"
      ],
      "execution_count": null,
      "outputs": [
        {
          "output_type": "stream",
          "text": [
            "splendid day light and lantern light were one to him the round of seed woods as they say ’ me all ’\n"
          ],
          "name": "stdout"
        }
      ]
    },
    {
      "cell_type": "code",
      "metadata": {
        "colab": {
          "base_uri": "https://localhost:8080/"
        },
        "id": "7U81HCzEaua_",
        "outputId": "b23964ba-3abd-4f3b-a4b4-17f1d29aba0f"
      },
      "source": [
        "print(generate_text(\"Sunlight\", 20))"
      ],
      "execution_count": null,
      "outputs": [
        {
          "output_type": "stream",
          "text": [
            "Sunlight when she comes on his sleep upon the tote house bright mountains can build my room of thread something up\n"
          ],
          "name": "stdout"
        }
      ]
    },
    {
      "cell_type": "code",
      "metadata": {
        "colab": {
          "base_uri": "https://localhost:8080/"
        },
        "id": "Plbr5v4YamTe",
        "outputId": "9e2a3e67-6921-44fc-b25c-1ff5f5346654"
      },
      "source": [
        "print(generate_text(\"Two roads\", 10))"
      ],
      "execution_count": null,
      "outputs": [
        {
          "output_type": "stream",
          "text": [
            "Two roads diverged in a wood and i don’t know him good\n"
          ],
          "name": "stdout"
        }
      ]
    },
    {
      "cell_type": "code",
      "metadata": {
        "colab": {
          "base_uri": "https://localhost:8080/"
        },
        "id": "o7nXyTxzaUNd",
        "outputId": "a6f1be12-6c06-4548-90d3-452ad42df529"
      },
      "source": [
        "print(generate_text(\"Cold night\", 10))"
      ],
      "execution_count": null,
      "outputs": [
        {
          "output_type": "stream",
          "text": [
            "Cold night and stronger every time was fallen before the last remaining\n"
          ],
          "name": "stdout"
        }
      ]
    },
    {
      "cell_type": "code",
      "metadata": {
        "colab": {
          "base_uri": "https://localhost:8080/"
        },
        "id": "-52smylZj7lr",
        "outputId": "098cf940-b0e8-4a1d-c060-f589496c9ad2"
      },
      "source": [
        "print(generate_text(\"grass\", 30))"
      ],
      "execution_count": null,
      "outputs": [
        {
          "output_type": "stream",
          "text": [
            "grass its full length old silver golden rod high urging for me ” he said he come ’ all grapes’ measured and possessed he bed back ” he said ‘i say\n"
          ],
          "name": "stdout"
        }
      ]
    },
    {
      "cell_type": "code",
      "metadata": {
        "colab": {
          "base_uri": "https://localhost:8080/"
        },
        "id": "heud8KFxkU0X",
        "outputId": "a0be4f03-c61e-4a44-e6e5-688e2b1cfd95"
      },
      "source": [
        "print(generate_text(\"help\", 30))"
      ],
      "execution_count": null,
      "outputs": [
        {
          "output_type": "stream",
          "text": [
            "help me then i didn't say it’s let me ’ i said it for him ” it said it’s done our children too good something ” he child’s slowed dark with\n"
          ],
          "name": "stdout"
        }
      ]
    },
    {
      "cell_type": "code",
      "metadata": {
        "colab": {
          "base_uri": "https://localhost:8080/"
        },
        "id": "PMMAZnO-cWyL",
        "outputId": "249425e3-f9ec-4639-e4cf-60d0cc0ea6c9"
      },
      "source": [
        "print(generate_text(\"Hope\", 20))"
      ],
      "execution_count": null,
      "outputs": [
        {
          "output_type": "stream",
          "text": [
            "Hope you wanted to restore them to their right ’ for a while corner ground it were i should be round\n"
          ],
          "name": "stdout"
        }
      ]
    },
    {
      "cell_type": "code",
      "metadata": {
        "colab": {
          "base_uri": "https://localhost:8080/"
        },
        "id": "FP2mwiKubFX4",
        "outputId": "f8a13aa3-7e39-4545-dbd7-7fe8f1a4c1c9"
      },
      "source": [
        "print(generate_text(\"Dream\", 20))"
      ],
      "execution_count": null,
      "outputs": [
        {
          "output_type": "stream",
          "text": [
            "Dream upon the homes of men and farther still the light for then in a sunset myself ’ he did a\n"
          ],
          "name": "stdout"
        }
      ]
    },
    {
      "cell_type": "code",
      "metadata": {
        "colab": {
          "base_uri": "https://localhost:8080/"
        },
        "id": "-slujSzKcMMh",
        "outputId": "27d905b1-4da3-4f16-c40d-554d70e1e775"
      },
      "source": [
        "print(generate_text(\"I wish\", 10))"
      ],
      "execution_count": null,
      "outputs": [
        {
          "output_type": "stream",
          "text": [
            "I wish that everything on earth were just said dark — and\n"
          ],
          "name": "stdout"
        }
      ]
    },
    {
      "cell_type": "code",
      "metadata": {
        "colab": {
          "base_uri": "https://localhost:8080/"
        },
        "id": "nF8vMwQ5cgG1",
        "outputId": "5f7d3258-07c5-45c3-af09-991d5d338342"
      },
      "source": [
        "print(generate_text(\"Afternoon\", 10))"
      ],
      "execution_count": null,
      "outputs": [
        {
          "output_type": "stream",
          "text": [
            "Afternoon the comforting barn grows far away though all of me\n"
          ],
          "name": "stdout"
        }
      ]
    },
    {
      "cell_type": "code",
      "metadata": {
        "colab": {
          "base_uri": "https://localhost:8080/"
        },
        "id": "HLwux1HCdwGS",
        "outputId": "176f51ee-41ff-4bfc-9da6-dfddcc2cdbf9"
      },
      "source": [
        "print(generate_text(\"I don't know\", 15))"
      ],
      "execution_count": null,
      "outputs": [
        {
          "output_type": "stream",
          "text": [
            "I don't know what part of the pasture you mean ’ i was up one ’ they say\n"
          ],
          "name": "stdout"
        }
      ]
    },
    {
      "cell_type": "code",
      "metadata": {
        "colab": {
          "base_uri": "https://localhost:8080/"
        },
        "id": "BE2cmUdse-dt",
        "outputId": "dd189bc4-687b-41a1-ff0e-a8f54b557427"
      },
      "source": [
        "print(generate_text(\"It's rainy\", 15))"
      ],
      "execution_count": null,
      "outputs": [
        {
          "output_type": "stream",
          "text": [
            "It's rainy dead pieces give him in their grave for i don’t yet ” ” his year's\n"
          ],
          "name": "stdout"
        }
      ]
    },
    {
      "cell_type": "code",
      "metadata": {
        "colab": {
          "base_uri": "https://localhost:8080/"
        },
        "id": "Mfpku8VCjJbg",
        "outputId": "9746e671-a4b6-4049-dad2-b7dd09c24429"
      },
      "source": [
        "print(generate_text(\"Sleep\", 30))"
      ],
      "execution_count": null,
      "outputs": [
        {
          "output_type": "stream",
          "text": [
            "Sleep of the salt wherewith they’re to be salted enough a door i’m it ’ ’ he said i ‘re ’ they’re he there cried ’ people it were all ’\n"
          ],
          "name": "stdout"
        }
      ]
    }
  ]
}